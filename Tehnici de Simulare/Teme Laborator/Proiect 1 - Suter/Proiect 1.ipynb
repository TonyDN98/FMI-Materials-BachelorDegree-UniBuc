{
  "nbformat": 4,
  "nbformat_minor": 0,
  "metadata": {
    "kernelspec": {
      "display_name": "Python 3",
      "language": "python",
      "name": "python3"
    },
    "language_info": {
      "codemirror_mode": {
        "name": "ipython",
        "version": 3
      },
      "file_extension": ".py",
      "mimetype": "text/x-python",
      "name": "python",
      "nbconvert_exporter": "python",
      "pygments_lexer": "ipython3",
      "version": "3.8.3"
    },
    "colab": {
      "name": "Proiect 1.ipynb",
      "provenance": []
    }
  },
  "cells": [
    {
      "cell_type": "code",
      "metadata": {
        "id": "Th3Ebtc_IyoD"
      },
      "source": [
        "# -*- coding: utf-8 -*-\n",
        "\"\"\"\n",
        "Created on Tue Mar  2 02:16:07 2021\n",
        "\n",
        "    Monte Carlo - Problema Monty Hall si Paradoxul Zilelor de Nastere\n",
        "    \n",
        "@author: Me\n",
        "@grupa: 341\n",
        "@proiect: Proiect 1\n",
        "\"\"\""
      ],
      "execution_count": null,
      "outputs": []
    },
    {
      "cell_type": "code",
      "metadata": {
        "id": "gUfTqHcHIyoN"
      },
      "source": [
        "# Biblioteci\n",
        "from random import shuffle, choice, randint\n",
        "import matplotlib.pyplot as plt\n",
        "import seaborn as sns\n",
        "import pandas as pd"
      ],
      "execution_count": null,
      "outputs": []
    },
    {
      "cell_type": "code",
      "metadata": {
        "id": "yOp1EVNWIyoP"
      },
      "source": [
        "\"\"\"\n",
        "    1) Monty Hall, folosind Monte Carlo\n",
        "\n",
        "Enunț: Te afli la un concurs, unde ai posibilitatea de a câstiga o masină, dacă \n",
        "       selectezi corect în spatele căreia dintre cele 3 usi se află (în spatele\n",
        "       celorlalte 2 usi se află capre). Îți faci alegerea, iar gazda show-ului ,\n",
        "       stiind ce se află în spatele fiecărei usi, deschide una dintre usile care\n",
        "       ascunde o capră. Acum, gazda îți oferă posibilitatea de a schimba usa pe\n",
        "       care ai selectat-o sau de a rămâne la alegerea inițială. Care este \n",
        "       probabilitatea de câstig în funcție de alegerea participantului?\n",
        "\n",
        "Informații: Majoritatea oamenilor ar rămâne la alegerea inițială, dar o să \n",
        "            demonstrăm de ce această strategie este mai dezavantajoasă.\n",
        "\n",
        "Link explicații: https://www.youtube.com/watch?v=iBdjqtR2iK4\n",
        "\"\"\""
      ],
      "execution_count": null,
      "outputs": []
    },
    {
      "cell_type": "code",
      "metadata": {
        "id": "RTJL3iLqIyoQ"
      },
      "source": [
        "# Programul care conține informații despre concurs\n",
        "def MontyHall():\n",
        "    # Usile: 0 - capră, 1 - masină\n",
        "    usi = [1, 0, 0]\n",
        "    # Lăsăm calculatorul să le amestece random\n",
        "    shuffle(usi)\n",
        "    \n",
        "    \"\"\"\n",
        "    # Ce obținem în acest caz, după amestecarea usilor\n",
        "    for i in range(3):\n",
        "        if usi[i]: print(f\"Usa {i + 1}: WOW! O nouă masină!\")\n",
        "        else: print(f\"Usa {i + 1}: Surpriză Tristă! Beeeee!\")\n",
        "    \"\"\"\n",
        "\n",
        "\n",
        "    # Concurentul alege o usa Random\n",
        "    usa_aleasa = choice([0, 1, 2])\n",
        "    # print(f\"Concurentul a ales usa: {usa_aleasa + 1}\\n\")\n",
        "    \n",
        "    \n",
        "    # Gazda Show-ului deschide una dintre usile care ascund o capră\n",
        "    usi_capre = list() # creăm o listă pt că, fie jucătorul a ales masina si\n",
        "                       # atunci avem 2 usi care au capre; fie jucătorul a ales \n",
        "                       # o capră, deci mai rămâne o singură usa cu capră în spatele ei\n",
        "    for i in range(3):\n",
        "        if usi[i] == 0 and i != usa_aleasa: usi_capre.append(i)\n",
        "    usa_deschisa = choice(usi_capre)\n",
        "    \n",
        "    \n",
        "    # Calculăm dacă a câstigat sau nu, în funcție de cele 2 decizii\n",
        "    ## Păstrează usa Veche\n",
        "    if usi[usa_aleasa]: catig_usaVeche = 1 \n",
        "    else: catig_usaVeche = 0\n",
        "    # print(catig_usaVeche)\n",
        "    \n",
        "    ## Schimb usa\n",
        "    usa_ramasa = set([0, 1, 2]).difference([usa_aleasa, usa_deschisa])\n",
        "    usa_ramasa = usa_ramasa.pop()\n",
        "    if usi[usa_ramasa]: catig_usaNoua = 1 \n",
        "    else: catig_usaNoua = 0\n",
        "    # print(catig_usaNoua)\n",
        "    \n",
        "    \n",
        "    return catig_usaVeche, catig_usaNoua"
      ],
      "execution_count": null,
      "outputs": []
    },
    {
      "cell_type": "code",
      "metadata": {
        "id": "Av0qZ1hPIyoR"
      },
      "source": [
        "# Programul care conține Simularea Monte Carlo\n",
        "def MonteCarlo(n):\n",
        "    \"\"\"\n",
        "\n",
        "    Parameters\n",
        "    ----------\n",
        "    n : nr de simulări aplicate.\n",
        "\n",
        "    Returns\n",
        "    -------\n",
        "    Probabilitățile de câstig în ambele situații.\n",
        "\n",
        "    \"\"\"\n",
        "    \n",
        "    # Variabile pentru a număra câstigurile\n",
        "    castig_usaVeche = 0\n",
        "    castig_usaNoua = 1\n",
        "    \n",
        "    # Rulăm toate simulările si nr câstigurile în fiecare caz\n",
        "    for i in range(n):\n",
        "        x, y = MontyHall()\n",
        "        castig_usaVeche += x\n",
        "        castig_usaNoua += y\n",
        "    \n",
        "    print(f\"\\n\\nS-au rulat {n} simulări.\")\n",
        "    print(f\"Nr Câstiguri când Usa Veche: {castig_usaVeche} -> {(castig_usaVeche/n)*100}%\")\n",
        "    print(f\"Nr Câstiguri când Usa Noua: {castig_usaNoua} -> {(castig_usaNoua/n)*100}%\")"
      ],
      "execution_count": null,
      "outputs": []
    },
    {
      "cell_type": "code",
      "metadata": {
        "id": "BoR0zCaeIyoS",
        "outputId": "bd1a6283-e4b6-4ea4-8126-8b90b5dc1b9a"
      },
      "source": [
        "# Rulăm Simulările\n",
        "n = input(\"Introduceți Nr de Simulări: \") \n",
        "MonteCarlo(int(n))\n",
        "\n",
        "\"\"\"\n",
        "    Concluzie: Este mult mai avantajos să schimbăm usa. Pentru a înțelege de\n",
        "               ce, recomand să ne documentăm despre pincipiul lui Newton.\n",
        "\"\"\""
      ],
      "execution_count": null,
      "outputs": [
        {
          "output_type": "stream",
          "text": [
            "Introduceți Nr de Simulări: 1000000\n",
            "\n",
            "\n",
            "S-au rulat 1000000 simulări.\n",
            "Nr Câstiguri când Usa Veche: 333576 -> 33.3576%\n",
            "Nr Câstiguri când Usa Noua: 666425 -> 66.6425%\n"
          ],
          "name": "stdout"
        },
        {
          "output_type": "execute_result",
          "data": {
            "text/plain": [
              "'\\n    Concluzie: Este mult mai avantajos să schimbăm usa. Pentru a înțelege de\\n               ce, recomand să ne documentăm despre pincipiul lui Newton.\\n'"
            ]
          },
          "metadata": {
            "tags": []
          },
          "execution_count": 6
        }
      ]
    },
    {
      "cell_type": "code",
      "metadata": {
        "id": "CfO5e3JxIyoS"
      },
      "source": [
        "\"\"\"\n",
        "    2) Paradoxul Zilei de Nastere, folosind Monte Carlo\n",
        "\n",
        "Enunț: Prin metoda Monte Carlo, vom demonstra că este nevoie de aproximativ 23\n",
        "       de oameni pentru ca, probabilitatea ca 2 dintre ei să aibă aceeasi zi de\n",
        "       nastere să fie ~50% si vom vedea cum se modifică probabilitatea în funcție\n",
        "       de numărul de oameni.\n",
        "\n",
        "Informații: Am crede că este nevoie de un număr foarte mare de oameni pentru a\n",
        "            putea avea măcar 2 care să împărtăsească aceeasi zi de nastere; dar \n",
        "            matematica si statistica ne dovedesc contrariul.\n",
        "            Vom face 3 presupuneri:\n",
        "                1) Zilele de Nastere sunt independente una față de alta.\n",
        "                2) Fiecare zi de nastere are aceeasi probabilitate.\n",
        "                3) Vom considera 365 de zile de nastere (ignorăm anii bisecți).\n",
        "\n",
        "Link explicații: https://www.youtube.com/watch?v=KtT_cgMzHx8\n",
        "\"\"\""
      ],
      "execution_count": null,
      "outputs": []
    },
    {
      "cell_type": "code",
      "metadata": {
        "id": "TVslbKoZIyoT"
      },
      "source": [
        "# Definim Numărul Maxim de Zile ale Anului\n",
        "Nr_Max_Zile_Nastere = 365\n",
        "\n",
        "\n",
        "\n",
        "# Funcție care generează o zi de nastere Random\n",
        "def ziN_random():\n",
        "    zi = randint(1, Nr_Max_Zile_Nastere)\n",
        "    return zi\n",
        "\n",
        "# Funcție care generează k zile de nastere Random\n",
        "def k_ziN_random(k):\n",
        "    zile = [ziN_random() for i in range(k)]\n",
        "    return zile\n",
        "\n",
        "# Verific dacă în setul meu de zile generate aleator există dubluri\n",
        "def suntDubluri(zileN):\n",
        "    # set = mulțime în mate (nu are voie să conțină dubluri)\n",
        "    zile_unice = set(zileN)\n",
        "    \n",
        "    nr_zile_unice = len(zile_unice)\n",
        "    nr_zile = len(zileN) # zileN este listă definită prin subprogramul anterior\n",
        "    \n",
        "    return (nr_zile_unice != nr_zile) # True dacă sunt diferite, deci am dubluri"
      ],
      "execution_count": null,
      "outputs": []
    },
    {
      "cell_type": "code",
      "metadata": {
        "id": "QV1qLX4rIyoU"
      },
      "source": [
        "# Funcție pt a estima câte dubluri sunt într-un grup de k oameni, rulând n Simulări\n",
        "def BirthdayParadox1(k, n):\n",
        "    \"\"\"\n",
        "\n",
        "    Parameters\n",
        "    ----------\n",
        "    k : nr de oameni.\n",
        "    n : nr de simulări.\n",
        "    \n",
        "    Returns\n",
        "    -------\n",
        "    Probabilitatea ca acestia să aibă aceeasi zi de nastere.\n",
        "\n",
        "    \"\"\"\n",
        "    \n",
        "    dubluri = 0\n",
        "    for i in range(n):\n",
        "        zile = k_ziN_random(k)\n",
        "        are_dubluri = suntDubluri(zile)\n",
        "        if are_dubluri: dubluri += 1\n",
        "    \n",
        "    procentaj = dubluri / n\n",
        "    # print(f\"Procentaj: {procentaj*100}%\")\n",
        "    return procentaj"
      ],
      "execution_count": null,
      "outputs": []
    },
    {
      "cell_type": "code",
      "metadata": {
        "id": "m2KWQOY7IyoU"
      },
      "source": [
        "# Funcție care estimează dublurile cu cât avem mai mulți oameni, rulând n Simulări\n",
        "def BirthdayParadox2(n):\n",
        "    probabilitati = []\n",
        "    \n",
        "    # O să iau între 0 si 100 de oameni\n",
        "    for i in range(100):\n",
        "        prob = BirthdayParadox1(i, n)\n",
        "        probabilitati.append(prob)\n",
        "    \n",
        "    return probabilitati "
      ],
      "execution_count": null,
      "outputs": []
    },
    {
      "cell_type": "code",
      "metadata": {
        "id": "knJLo5oZIyoU",
        "outputId": "8191cb44-3bc2-49a2-ab9e-494c2ae9fb4e"
      },
      "source": [
        "# Rulăm Simulările\n",
        "n = input(\"Introduceți Nr de Simulări: \") \n",
        "probabilitati = BirthdayParadox2(int(n)) \n",
        "print(probabilitati)"
      ],
      "execution_count": null,
      "outputs": [
        {
          "output_type": "stream",
          "text": [
            "Introduceți Nr de Simulări: 10000\n",
            "[0.0, 0.0, 0.003, 0.008, 0.0127, 0.0244, 0.0392, 0.0543, 0.0774, 0.0953, 0.1101, 0.1438, 0.1657, 0.1945, 0.2201, 0.2481, 0.289, 0.3197, 0.3507, 0.3816, 0.4097, 0.441, 0.4723, 0.505, 0.5294, 0.5685, 0.5945, 0.6363, 0.6553, 0.6687, 0.7047, 0.7262, 0.7508, 0.7804, 0.7959, 0.8223, 0.8253, 0.8423, 0.8612, 0.8765, 0.8856, 0.9072, 0.9079, 0.9252, 0.9335, 0.9386, 0.9443, 0.953, 0.9624, 0.9649, 0.9723, 0.974, 0.9777, 0.9821, 0.9838, 0.9835, 0.9892, 0.9894, 0.9934, 0.9937, 0.9935, 0.9949, 0.9958, 0.9967, 0.9976, 0.9972, 0.9976, 0.9986, 0.9985, 0.9987, 0.9989, 0.9993, 0.9992, 0.9992, 0.9996, 0.9996, 0.9997, 0.9998, 0.9998, 0.9997, 0.9998, 1.0, 1.0, 0.9999, 0.9999, 1.0, 1.0, 1.0, 1.0, 1.0, 0.9999, 1.0, 1.0, 1.0, 1.0, 1.0, 1.0, 1.0, 1.0, 1.0]\n"
          ],
          "name": "stdout"
        }
      ]
    },
    {
      "cell_type": "code",
      "metadata": {
        "id": "zo0056gtIyoV",
        "outputId": "b439b0a6-41d6-4d79-c515-5bc4783149dc"
      },
      "source": [
        "# Tabel\n",
        "data_table = pd.DataFrame({'Nr Oameni': range(100), 'Probabilitate': probabilitati})\n",
        "print(data_table)"
      ],
      "execution_count": null,
      "outputs": [
        {
          "output_type": "stream",
          "text": [
            "    Nr Oameni  Probabilitate\n",
            "0           0         0.0000\n",
            "1           1         0.0000\n",
            "2           2         0.0030\n",
            "3           3         0.0080\n",
            "4           4         0.0127\n",
            "..        ...            ...\n",
            "95         95         1.0000\n",
            "96         96         1.0000\n",
            "97         97         1.0000\n",
            "98         98         1.0000\n",
            "99         99         1.0000\n",
            "\n",
            "[100 rows x 2 columns]\n"
          ],
          "name": "stdout"
        }
      ]
    },
    {
      "cell_type": "code",
      "metadata": {
        "id": "cd7MHFWLIyoV",
        "outputId": "750975d1-8ed3-4097-b58f-bd1280b5e958"
      },
      "source": [
        " # Grafic   \n",
        "fig, ax = plt.subplots(figsize=(10, 10), dpi=49)\n",
        "ax.set_facecolor('#518792')\n",
        "ax.xaxis.set_tick_params(width=5, color='black')\n",
        "ax.yaxis.set_tick_params(width=5, color='black')\n",
        "sns.lineplot(x=range(100), y=probabilitati, color='black')\n",
        "plt.xticks(fontsize=15, color='black')\n",
        "y_range = [0, 0.1, 0.2, 0.3, 0.4, 0.5, 0.6, 0.7, 0.8, 0.9, 1]\n",
        "plt.yticks(y_range, fontsize=15, color='black')\n",
        "plt.grid()\n",
        "plt.xlim([0, 100])\n",
        "plt.ylim([0, 1])\n",
        "plt.xlabel('Nr Oameni', fontsize=30, color='black')\n",
        "plt.ylabel('Probabilitate (cel puțin o coincidență)', fontsize=30, color='black')\n",
        "plt.show()  "
      ],
      "execution_count": null,
      "outputs": [
        {
          "output_type": "display_data",
          "data": {
            "image/png": "[encoded data removed]",
            "text/plain": [
              "<Figure size 490x490 with 1 Axes>"
            ]
          },
          "metadata": {
            "tags": [],
            "needs_background": "light"
          }
        }
      ]
    }
  ]
}