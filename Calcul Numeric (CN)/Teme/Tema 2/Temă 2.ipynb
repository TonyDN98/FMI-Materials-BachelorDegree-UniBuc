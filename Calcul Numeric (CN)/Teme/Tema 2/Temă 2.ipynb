{
  "nbformat": 4,
  "nbformat_minor": 0,
  "metadata": {
    "kernelspec": {
      "display_name": "Python 3",
      "language": "python",
      "name": "python3"
    },
    "language_info": {
      "codemirror_mode": {
        "name": "ipython",
        "version": 3
      },
      "file_extension": ".py",
      "mimetype": "text/x-python",
      "name": "python",
      "nbconvert_exporter": "python",
      "pygments_lexer": "ipython3",
      "version": "3.8.3"
    },
    "colab": {
      "name": "Temă 2.ipynb",
      "provenance": []
    }
  },
  "cells": [
    {
      "cell_type": "code",
      "metadata": {
        "id": "stIVtQJLg8G5"
      },
      "source": [
        "\"\"\"\n",
        "Created on Wed Nov 17 02:05:08 2020\n",
        "\n",
        "@author:    Eu\n",
        "@grupa:     341\n",
        "@nr.crt:    159\n",
        "@varianta:  15\n",
        "\"\"\""
      ],
      "execution_count": null,
      "outputs": []
    },
    {
      "cell_type": "code",
      "metadata": {
        "id": "-nynT7mFg8HC"
      },
      "source": [
        "# Librării\n",
        "import numpy as np\n",
        "import math"
      ],
      "execution_count": null,
      "outputs": []
    },
    {
      "cell_type": "code",
      "metadata": {
        "id": "IELGy5Q7g8HD"
      },
      "source": [
        "\"\"\"     Exercițiul 2 -> Rezolvare     \"\"\"\n",
        "\n",
        "# Datele Problemei\n",
        "d = 18\n",
        "f = -6\n",
        "c = -3\n",
        "n = 20\n",
        "\n",
        "# Reprezentăm matricea A a sistemului (tridiagonală)\n",
        "A = np.zeros((n, n))\n",
        "for i in range(n):\n",
        "    A[i][i] = d * 1.0\n",
        "for i in range(1, n):\n",
        "    A[i][i - 1] = c * 1.0\n",
        "    A[i - 1][i] = f * 1.0\n",
        "\n",
        "# Vectorul b - termenii liberi\n",
        "b = [1.] * n\n",
        "b[0] = b[n - 1] = 2."
      ],
      "execution_count": null,
      "outputs": []
    },
    {
      "cell_type": "code",
      "metadata": {
        "id": "62AeN_KRg8HD",
        "outputId": "2e3a5610-1061-4918-a1cc-47793375b093"
      },
      "source": [
        "\"\"\"\n",
        "Conform Exercițiului 1, putem reprezenta matricea A = L * R, deci calculăm \n",
        "elementele matricilor L si R conform algoritmului prezentat în subpunctul a\n",
        "al Exercițiului 1.\n",
        "\"\"\"\n",
        "\n",
        "# Inițial, avem toate elementele 0\n",
        "L = np.zeros((n, n))\n",
        "R = np.zeros((n, n))\n",
        "\n",
        "# Diagonala principală a lui L are numai valori = 1\n",
        "for i in range(n):\n",
        "    L[i][i] = 1.0\n",
        "\n",
        "# Algoritmul de la Ex1.a)\n",
        "R[0][0] = A[0][0]\n",
        "for i in range(n - 1):\n",
        "    L[i + 1][i] = A[i + 1][i] / R[i][i]\n",
        "    R[i][i + 1] = A[i][i + 1]\n",
        "    R[i + 1][i + 1] = A[i + 1][i + 1] - L[i + 1][i] * R[i][i + 1]\n",
        "\n",
        "    \n",
        "# Verificare A = L * R\n",
        "print(f\"A: \\n{A}\")\n",
        "print(f\"L * R: \\n{L@R}\")"
      ],
      "execution_count": null,
      "outputs": [
        {
          "output_type": "stream",
          "text": [
            "A: \n",
            "[[18. -6.  0.  0.  0.  0.  0.  0.  0.  0.  0.  0.  0.  0.  0.  0.  0.  0.\n",
            "   0.  0.]\n",
            " [-3. 18. -6.  0.  0.  0.  0.  0.  0.  0.  0.  0.  0.  0.  0.  0.  0.  0.\n",
            "   0.  0.]\n",
            " [ 0. -3. 18. -6.  0.  0.  0.  0.  0.  0.  0.  0.  0.  0.  0.  0.  0.  0.\n",
            "   0.  0.]\n",
            " [ 0.  0. -3. 18. -6.  0.  0.  0.  0.  0.  0.  0.  0.  0.  0.  0.  0.  0.\n",
            "   0.  0.]\n",
            " [ 0.  0.  0. -3. 18. -6.  0.  0.  0.  0.  0.  0.  0.  0.  0.  0.  0.  0.\n",
            "   0.  0.]\n",
            " [ 0.  0.  0.  0. -3. 18. -6.  0.  0.  0.  0.  0.  0.  0.  0.  0.  0.  0.\n",
            "   0.  0.]\n",
            " [ 0.  0.  0.  0.  0. -3. 18. -6.  0.  0.  0.  0.  0.  0.  0.  0.  0.  0.\n",
            "   0.  0.]\n",
            " [ 0.  0.  0.  0.  0.  0. -3. 18. -6.  0.  0.  0.  0.  0.  0.  0.  0.  0.\n",
            "   0.  0.]\n",
            " [ 0.  0.  0.  0.  0.  0.  0. -3. 18. -6.  0.  0.  0.  0.  0.  0.  0.  0.\n",
            "   0.  0.]\n",
            " [ 0.  0.  0.  0.  0.  0.  0.  0. -3. 18. -6.  0.  0.  0.  0.  0.  0.  0.\n",
            "   0.  0.]\n",
            " [ 0.  0.  0.  0.  0.  0.  0.  0.  0. -3. 18. -6.  0.  0.  0.  0.  0.  0.\n",
            "   0.  0.]\n",
            " [ 0.  0.  0.  0.  0.  0.  0.  0.  0.  0. -3. 18. -6.  0.  0.  0.  0.  0.\n",
            "   0.  0.]\n",
            " [ 0.  0.  0.  0.  0.  0.  0.  0.  0.  0.  0. -3. 18. -6.  0.  0.  0.  0.\n",
            "   0.  0.]\n",
            " [ 0.  0.  0.  0.  0.  0.  0.  0.  0.  0.  0.  0. -3. 18. -6.  0.  0.  0.\n",
            "   0.  0.]\n",
            " [ 0.  0.  0.  0.  0.  0.  0.  0.  0.  0.  0.  0.  0. -3. 18. -6.  0.  0.\n",
            "   0.  0.]\n",
            " [ 0.  0.  0.  0.  0.  0.  0.  0.  0.  0.  0.  0.  0.  0. -3. 18. -6.  0.\n",
            "   0.  0.]\n",
            " [ 0.  0.  0.  0.  0.  0.  0.  0.  0.  0.  0.  0.  0.  0.  0. -3. 18. -6.\n",
            "   0.  0.]\n",
            " [ 0.  0.  0.  0.  0.  0.  0.  0.  0.  0.  0.  0.  0.  0.  0.  0. -3. 18.\n",
            "  -6.  0.]\n",
            " [ 0.  0.  0.  0.  0.  0.  0.  0.  0.  0.  0.  0.  0.  0.  0.  0.  0. -3.\n",
            "  18. -6.]\n",
            " [ 0.  0.  0.  0.  0.  0.  0.  0.  0.  0.  0.  0.  0.  0.  0.  0.  0.  0.\n",
            "  -3. 18.]]\n",
            "L * R: \n",
            "[[18. -6.  0.  0.  0.  0.  0.  0.  0.  0.  0.  0.  0.  0.  0.  0.  0.  0.\n",
            "   0.  0.]\n",
            " [-3. 18. -6.  0.  0.  0.  0.  0.  0.  0.  0.  0.  0.  0.  0.  0.  0.  0.\n",
            "   0.  0.]\n",
            " [ 0. -3. 18. -6.  0.  0.  0.  0.  0.  0.  0.  0.  0.  0.  0.  0.  0.  0.\n",
            "   0.  0.]\n",
            " [ 0.  0. -3. 18. -6.  0.  0.  0.  0.  0.  0.  0.  0.  0.  0.  0.  0.  0.\n",
            "   0.  0.]\n",
            " [ 0.  0.  0. -3. 18. -6.  0.  0.  0.  0.  0.  0.  0.  0.  0.  0.  0.  0.\n",
            "   0.  0.]\n",
            " [ 0.  0.  0.  0. -3. 18. -6.  0.  0.  0.  0.  0.  0.  0.  0.  0.  0.  0.\n",
            "   0.  0.]\n",
            " [ 0.  0.  0.  0.  0. -3. 18. -6.  0.  0.  0.  0.  0.  0.  0.  0.  0.  0.\n",
            "   0.  0.]\n",
            " [ 0.  0.  0.  0.  0.  0. -3. 18. -6.  0.  0.  0.  0.  0.  0.  0.  0.  0.\n",
            "   0.  0.]\n",
            " [ 0.  0.  0.  0.  0.  0.  0. -3. 18. -6.  0.  0.  0.  0.  0.  0.  0.  0.\n",
            "   0.  0.]\n",
            " [ 0.  0.  0.  0.  0.  0.  0.  0. -3. 18. -6.  0.  0.  0.  0.  0.  0.  0.\n",
            "   0.  0.]\n",
            " [ 0.  0.  0.  0.  0.  0.  0.  0.  0. -3. 18. -6.  0.  0.  0.  0.  0.  0.\n",
            "   0.  0.]\n",
            " [ 0.  0.  0.  0.  0.  0.  0.  0.  0.  0. -3. 18. -6.  0.  0.  0.  0.  0.\n",
            "   0.  0.]\n",
            " [ 0.  0.  0.  0.  0.  0.  0.  0.  0.  0.  0. -3. 18. -6.  0.  0.  0.  0.\n",
            "   0.  0.]\n",
            " [ 0.  0.  0.  0.  0.  0.  0.  0.  0.  0.  0.  0. -3. 18. -6.  0.  0.  0.\n",
            "   0.  0.]\n",
            " [ 0.  0.  0.  0.  0.  0.  0.  0.  0.  0.  0.  0.  0. -3. 18. -6.  0.  0.\n",
            "   0.  0.]\n",
            " [ 0.  0.  0.  0.  0.  0.  0.  0.  0.  0.  0.  0.  0.  0. -3. 18. -6.  0.\n",
            "   0.  0.]\n",
            " [ 0.  0.  0.  0.  0.  0.  0.  0.  0.  0.  0.  0.  0.  0.  0. -3. 18. -6.\n",
            "   0.  0.]\n",
            " [ 0.  0.  0.  0.  0.  0.  0.  0.  0.  0.  0.  0.  0.  0.  0.  0. -3. 18.\n",
            "  -6.  0.]\n",
            " [ 0.  0.  0.  0.  0.  0.  0.  0.  0.  0.  0.  0.  0.  0.  0.  0.  0. -3.\n",
            "  18. -6.]\n",
            " [ 0.  0.  0.  0.  0.  0.  0.  0.  0.  0.  0.  0.  0.  0.  0.  0.  0.  0.\n",
            "  -3. 18.]]\n"
          ],
          "name": "stdout"
        }
      ]
    },
    {
      "cell_type": "code",
      "metadata": {
        "id": "WxSD9w0Tg8HE",
        "outputId": "9a147744-3e7c-46e4-ae7a-24560d0b678e"
      },
      "source": [
        "\"\"\"\n",
        "Aplic metoda de factorizare LR, după cum am prezentat-o în Ex1.b)\n",
        "\"\"\"\n",
        "\n",
        "# Calculez y\n",
        "y = np.zeros(n)\n",
        "y[0] = b[0]\n",
        "for i in range(1, n):\n",
        "    y[i] = b[i] - L[i][i - 1] * y[i - 1]\n",
        "\n",
        "    \n",
        "# Verificare: L * y = b\n",
        "print(f\"b: \\n{b}\\n\")\n",
        "print(f\"L * y: \\n{L@y}\")  "
      ],
      "execution_count": null,
      "outputs": [
        {
          "output_type": "stream",
          "text": [
            "b: \n",
            "[2.0, 1.0, 1.0, 1.0, 1.0, 1.0, 1.0, 1.0, 1.0, 1.0, 1.0, 1.0, 1.0, 1.0, 1.0, 1.0, 1.0, 1.0, 1.0, 2.0]\n",
            "\n",
            "L * y: \n",
            "[2. 1. 1. 1. 1. 1. 1. 1. 1. 1. 1. 1. 1. 1. 1. 1. 1. 1. 1. 2.]\n"
          ],
          "name": "stdout"
        }
      ]
    },
    {
      "cell_type": "code",
      "metadata": {
        "id": "1FYdAnqJg8HE",
        "outputId": "3a5b1b94-d7d5-4e1f-f246-00f42797108a"
      },
      "source": [
        "# Calculez x (-> Soluție pt A * x = b)\n",
        "x = np.zeros(n)\n",
        "x[n - 1] = y[n - 1] / R[n - 1][n - 1]\n",
        "for i in range(n - 2, -1, -1):\n",
        "    x[i] = (y[i] - R[i][i + 1] * x[i + 1]) / R[i][i]\n",
        "\n",
        "# Verificare: R * x = y\n",
        "print(f\"y: \\n{y}\\n\")\n",
        "print(f\"R * x: \\n{R@x}\") "
      ],
      "execution_count": null,
      "outputs": [
        {
          "output_type": "stream",
          "text": [
            "y: \n",
            "[2.         1.33333333 1.23529412 1.21875    1.21586716 1.21535948\n",
            " 1.21526974 1.21525385 1.21525104 1.21525054 1.21525046 1.21525044\n",
            " 1.21525044 1.21525044 1.21525044 1.21525044 1.21525044 1.21525044\n",
            " 1.21525044 2.21525044]\n",
            "\n",
            "R * x: \n",
            "[2.         1.33333333 1.23529412 1.21875    1.21586716 1.21535948\n",
            " 1.21526974 1.21525385 1.21525104 1.21525054 1.21525046 1.21525044\n",
            " 1.21525044 1.21525044 1.21525044 1.21525044 1.21525044 1.21525044\n",
            " 1.21525044 2.21525044]\n"
          ],
          "name": "stdout"
        }
      ]
    },
    {
      "cell_type": "code",
      "metadata": {
        "id": "DwkBrWZKg8HF",
        "outputId": "d5e68925-a215-42f7-bcb3-f37c2a79a6da"
      },
      "source": [
        "# Verificare: A * x = b\n",
        "print(f\"b: \\n{b}\\n\")\n",
        "print(f\"A * x: \\n{A@x}\") "
      ],
      "execution_count": null,
      "outputs": [
        {
          "output_type": "stream",
          "text": [
            "b: \n",
            "[2.0, 1.0, 1.0, 1.0, 1.0, 1.0, 1.0, 1.0, 1.0, 1.0, 1.0, 1.0, 1.0, 1.0, 1.0, 1.0, 1.0, 1.0, 1.0, 2.0]\n",
            "\n",
            "A * x: \n",
            "[2. 1. 1. 1. 1. 1. 1. 1. 1. 1. 1. 1. 1. 1. 1. 1. 1. 1. 1. 2.]\n"
          ],
          "name": "stdout"
        }
      ]
    },
    {
      "cell_type": "code",
      "metadata": {
        "id": "NN06vAHag8HF",
        "outputId": "da834811-1411-4926-81bb-687860e2c382"
      },
      "source": [
        "print(f\"Soluția Sistemului Tridiagonal A * x = b este x: \\n{x}\")"
      ],
      "execution_count": null,
      "outputs": [
        {
          "output_type": "stream",
          "text": [
            "Soluția Sistemului Tridiagonal A * x = b este x: \n",
            "[0.15047208 0.1180829  0.11234598 0.11132984 0.11114986 0.11111798\n",
            " 0.11111235 0.1111114  0.11111137 0.11111173 0.11111284 0.11111599\n",
            " 0.11112489 0.11115001 0.1112209  0.11142104 0.11198602 0.11358086\n",
            " 0.1180829  0.13079159]\n"
          ],
          "name": "stdout"
        }
      ]
    },
    {
      "cell_type": "code",
      "metadata": {
        "id": "QdBWdJoUg8HF"
      },
      "source": [
        "\"\"\"     Exercițiul 3 -> Rezolvare     \"\"\"\n",
        "\n",
        "# Datele Problemei\n",
        "A = np.array([[12, 9, 17],\n",
        "              [4, 2, 5],\n",
        "              [20, 22, 38]])\n",
        "b = np.array([[31], [12], [50]])"
      ],
      "execution_count": null,
      "outputs": []
    },
    {
      "cell_type": "code",
      "metadata": {
        "id": "S9myjGoUg8HG"
      },
      "source": [
        "# Metoda Substituției Descendente (Funcție Auxiliară pt implementarea Metodei Gauss)\n",
        "def metSubDesc(A, b, tol):\n",
        "    \"\"\"\n",
        "\n",
        "    Parameters\n",
        "    ----------\n",
        "    A : matrice pătratică, superior triunghiulară, cu toate elementele de pe diagonala principală nenule.\n",
        "    b : vectorul termenilor liberi.\n",
        "    tol : toleranță = valoare numerică foarte mică în raport cu care vom compara numerele apropiate de 0.\n",
        "\n",
        "    Returns\n",
        "    -------\n",
        "    x = Soluția Sistemului.\n",
        "\n",
        "    \"\"\"\n",
        "    \n",
        "    # Verificăm dacă matricea este pătratică\n",
        "    m, n = np.shape(A)\n",
        "    if m!= n:\n",
        "        print(\"Matricea nu este pătratică. Introduceți altă matrice.\")\n",
        "        x = None\n",
        "        return x\n",
        "    \n",
        "    # Verificăm dacă matricea este superior triunghiulară\n",
        "    for i in range(m):\n",
        "       for j in range(i):\n",
        "           if abs(A[i][j] > tol):\n",
        "               print(\"Matricea nu este superior triunghiulară.\")\n",
        "               x = None\n",
        "               return x\n",
        "    \n",
        "    # Verificam dacă toate elementele de pe diagonala principală sunt nenule => Si. este compatibil determinat \n",
        "    # (adică am soluție unică)\n",
        "    for i in range(n):\n",
        "        if A[i][i] == 0:\n",
        "            print(\"Sistemul nu este compatibil determinat.\")\n",
        "            x = None\n",
        "            return x\n",
        "    \n",
        "    x = np.zeros((n, 1))\n",
        "    x[n - 1] = b[n - 1] / A[n - 1][n - 1]\n",
        "    \n",
        "    k = n - 2\n",
        "    while k >= 0:\n",
        "        s = 0\n",
        "        for j in range(k + 1, n):\n",
        "            s += x[j] * A[k][j]\n",
        "            \n",
        "        x[k] = (1 / A[k][k]) * (b[k] - s)\n",
        "        k -= 1\n",
        "    \n",
        "    return x"
      ],
      "execution_count": null,
      "outputs": []
    },
    {
      "cell_type": "code",
      "metadata": {
        "id": "4d5_5vNig8HG"
      },
      "source": [
        "# Definim Procedura InvDet(A)\n",
        "def InvDet(A):\n",
        "    \"\"\"\n",
        "\n",
        "    Parameters\n",
        "    ----------\n",
        "    A : matricea.\n",
        "\n",
        "    Returns\n",
        "    -------\n",
        "    det = determinantul lui A;\n",
        "    A_invers = inversul lui A \n",
        "\n",
        "    \"\"\"\n",
        "    \n",
        "    # Nu mai are sens să verific dacă matricea este pătratică, pt ca lucrăm pe un caz particular\n",
        "    # Iau dimensiunea matricei A\n",
        "    n = len(A)\n",
        "    \n",
        "    # Matricea Identitate\n",
        "    I = np.zeros((n, n))\n",
        "    for i in range(n):\n",
        "        I[i][i] = 1\n",
        "    \n",
        "    # Matrice Extinsă (Concatenez la A matricea I)\n",
        "    A_extins = np.concatenate((A, I), axis = 1)\n",
        "    \n",
        "    \n",
        "    # pt soluții\n",
        "    index = np.array(range(n))\n",
        "    \n",
        "    \n",
        "    pivot = np.zeros(n) # unde rețin pivoții pentru calcul determinant\n",
        "    s = 0               # unde rețin nr permutări tot pt determinant\n",
        "    \n",
        "    \n",
        "    for k in range(n - 1):\n",
        "        p = k\n",
        "        m = k\n",
        "      \n",
        "        for i in range(k, n):\n",
        "            for j in range(k, n):\n",
        "                if abs(A_extins[p][m]) < abs(A_extins[i][j]):\n",
        "                    p = i\n",
        "                    m = j\n",
        "                    \n",
        "        if A_extins[p][m] == 0:\n",
        "            print(\"Sistem Incompatibil sau Compatibil Nedeterminat!\")\n",
        "            break\n",
        "        \n",
        "        pivot[k] = A_extins[p][m]\n",
        "        \n",
        "        if p != k:\n",
        "            A_extins[[p, k]] = A_extins[[k, p]] # interschimb linia p cu linia k\n",
        "            s += 1\n",
        "        \n",
        "        if m != k:\n",
        "            A_extins[:, [m, k]] = A_extins[:, [k, m]] # interschimb coloana m cu coloana k\n",
        "            s += 1\n",
        "            index[[m, k]] = index[[k, m]]       \n",
        "        \n",
        "        for l in range(k + 1, n):\n",
        "            m = A_extins[l][k] / A_extins[k][k]\n",
        "            A_extins[l] = A_extins[l] - m * A_extins[k]\n",
        "        \n",
        "        if A_extins[n - 1][n - 1] == 0:\n",
        "            print(\"Sistem Incompatibil sau Compatibil Nedeterminat!\")\n",
        "            break\n",
        "                \n",
        "    pivot[n - 1] = A_extins[n - 1][n - 1]\n",
        "    \n",
        "    \n",
        "    \n",
        "    # calcul determinant = (-1) ** s * pivot1 * pivot2 * ... * pivotn\n",
        "    det = (-1) ** s\n",
        "    for i in range(n):\n",
        "        det *= pivot[i]\n",
        "    \n",
        "    \n",
        "    # calcul inversă\n",
        "    A_invers = np.zeros((n, n))\n",
        "    coloana = 0 # ca să concatenez x-urile la A_invers\n",
        "    \n",
        "    for i in range(n):\n",
        "        y = metSubDesc(A_extins[:, 0:n], A_extins[:, [n + i]], 10 ** (-10))\n",
        "        x = np.zeros(len(y))\n",
        "        for i in range(n):\n",
        "            x[index[i]] = y[i]\n",
        "        \n",
        "        for i in range(n):\n",
        "            A_invers[i][coloana] = x[i]\n",
        "        coloana += 1  \n",
        "       \n",
        "        \n",
        "       \n",
        "    return det, A_invers"
      ],
      "execution_count": null,
      "outputs": []
    },
    {
      "cell_type": "code",
      "metadata": {
        "id": "Mip_EHQBg8HG",
        "outputId": "d8effe87-c893-4527-9fd0-398ac5f9cac3"
      },
      "source": [
        "det, A_invers = InvDet(A)\n",
        "print(\"Determinant: {:.2f}\".format(det))\n",
        "print(f\"\\nMatricea Inversă A_invers: \\n{A_invers}\")"
      ],
      "execution_count": null,
      "outputs": [
        {
          "output_type": "stream",
          "text": [
            "Determinant: -60.00\n",
            "\n",
            "Matricea Inversă A_invers: \n",
            "[[ 0.56666667 -0.53333333 -0.18333333]\n",
            " [ 0.86666667 -1.93333333 -0.13333333]\n",
            " [-0.8         1.4         0.2       ]]\n"
          ],
          "name": "stdout"
        }
      ]
    },
    {
      "cell_type": "code",
      "metadata": {
        "id": "PahwIBbWg8HH",
        "outputId": "e2ef4d5b-8a2a-4102-837d-c1dbe60a98ed"
      },
      "source": [
        "x = A_invers@b\n",
        "print(f\"Soluția Sistemului -> x: \\n{x}\")"
      ],
      "execution_count": null,
      "outputs": [
        {
          "output_type": "stream",
          "text": [
            "Soluția Sistemului -> x: \n",
            "[[ 2.]\n",
            " [-3.]\n",
            " [ 2.]]\n"
          ],
          "name": "stdout"
        }
      ]
    },
    {
      "cell_type": "code",
      "metadata": {
        "id": "MsgYBrhMg8HH",
        "outputId": "2f791d3c-af50-46b4-a580-026cf73bc784"
      },
      "source": [
        "\"\"\"     Exercițiul 4 -> Rezolvare     \"\"\"\n",
        "\n",
        "# Datele Problemei -> Subpunctul 1\n",
        "n = 5\n",
        "\n",
        "b = np.zeros(n)\n",
        "for i in range(1, n + 1):\n",
        "    b[i - 1] = i ** 4\n",
        "print(f\"b: {b}\\n\")\n",
        "\n",
        "# Definim Vectorul a\n",
        "a = np.zeros(n)\n",
        "for i in range(n, -1, -1):\n",
        "    a[i % n] = 2 ** (n - (i % n))\n",
        "print(f\"Vectorul a: {a}\\n\")\n",
        "\n",
        "# Definim Matricea Simetrică A\n",
        "A = np.zeros((n, n))\n",
        "for i in range(n):\n",
        "    for j in range(i, n):\n",
        "        A[i][j] = a[j - i]\n",
        "        A[j][i] = a[j - i]\n",
        "print(f\"Matricea Simetrică A: \\n{A}\")"
      ],
      "execution_count": null,
      "outputs": [
        {
          "output_type": "stream",
          "text": [
            "b: [  1.  16.  81. 256. 625.]\n",
            "\n",
            "Vectorul a: [32. 16.  8.  4.  2.]\n",
            "\n",
            "Matricea Simetrică A: \n",
            "[[32. 16.  8.  4.  2.]\n",
            " [16. 32. 16.  8.  4.]\n",
            " [ 8. 16. 32. 16.  8.]\n",
            " [ 4.  8. 16. 32. 16.]\n",
            " [ 2.  4.  8. 16. 32.]]\n"
          ],
          "name": "stdout"
        }
      ]
    },
    {
      "cell_type": "code",
      "metadata": {
        "id": "p_x1JUsug8HH",
        "outputId": "e481682b-0d90-44b4-e724-c03176cf5ce8"
      },
      "source": [
        "# Subpunctul 2 -> Criteriul Sylvester\n",
        "def Sylvester(A):\n",
        "    ok = 0\n",
        "    for i in range(1, n + 1):\n",
        "        aux = A[0:i, 0:i]\n",
        "        if np.linalg.det(aux) <= 0:\n",
        "            print(\"Matricea NU este Pozitiv Definită!\")\n",
        "            ok = 1\n",
        "    \n",
        "    return ok\n",
        "  \n",
        "      \n",
        "if Sylvester(A) == 0:\n",
        "    print(\"Matricea este Pozitiv Definită!\")"
      ],
      "execution_count": null,
      "outputs": [
        {
          "output_type": "stream",
          "text": [
            "Matricea este Pozitiv Definită!\n"
          ],
          "name": "stdout"
        }
      ]
    },
    {
      "cell_type": "code",
      "metadata": {
        "id": "iXjf02kxg8HH"
      },
      "source": [
        "# Subpunctul 3 -> Factorizarea Cholesky\n",
        "\n",
        "\n",
        "\n",
        "# Funcție Auxiliară pt FactCholesky\n",
        "def metSubAsc(A, b, tol):\n",
        "    \"\"\"\n",
        "\n",
        "    Parameters\n",
        "    ----------\n",
        "    A : matrice inferior triunghiulară.\n",
        "    b : vectorul termenilor liberi.\n",
        "    tol : toleranța.\n",
        "\n",
        "    Returns\n",
        "    -------\n",
        "    soluția.\n",
        "\n",
        "    \"\"\"\n",
        "    \n",
        "    # Verificăm dacă matricea este pătratică\n",
        "    m, n = np.shape(A)\n",
        "    if m != n:\n",
        "        print(\"Matricea nu este pătratică. Introduceți altă matrice.\")\n",
        "        x = None\n",
        "        return x\n",
        "    \n",
        "    # Verificăm dacă matricea este superior triunghiulară\n",
        "    for i in range(m):\n",
        "       for j in range(i):\n",
        "           if abs(A[j][i]) > tol:\n",
        "               print(\"Matricea nu este inferior triunghiulară.\")\n",
        "               x = None\n",
        "               return x\n",
        "    \n",
        "    # Verificam dacă toate elementele de pe diagonala principală sunt nenule => \n",
        "    # Si. este compatibil ddeterminat (adică am soluție unică)\n",
        "    for i in range(n):\n",
        "        if abs(A[i][i]) <= tol:\n",
        "            print(\"Sistemul nu este compatibil determinat.\")\n",
        "            x = None\n",
        "            return x\n",
        "    \n",
        "    x = np.zeros((m, 1))\n",
        "    x[0] = b[0] / A[0][0]\n",
        "    \n",
        "    for k in range(1, n):\n",
        "        \n",
        "        sum = 0\n",
        "        for j in range(k):\n",
        "            sum += A[k][j] * x[j]\n",
        "        \n",
        "        x[k] = (1 / A[k][k]) * (b[k] - sum)\n",
        "    \n",
        "    return x\n",
        "\n",
        "\n",
        "\n",
        "# Factorizarea Cholesky\n",
        "def FactCholesky(A, b):\n",
        "    \"\"\"\n",
        "\n",
        "    Parameters\n",
        "    ----------\n",
        "    A : matrice simetrică, pozitiv definită.\n",
        "    b : vectorul termenilor liberi.\n",
        "\n",
        "    Returns\n",
        "    -------\n",
        "    L => A = L * L_transpus\n",
        "    x => soluția sistemului Ax = b\n",
        "\n",
        "    \"\"\"\n",
        "    \n",
        "    # Pasul 1\n",
        "    A_transpus = np.transpose(A)\n",
        "    if not np.array_equal(A, A_transpus):\n",
        "        print(\"Matricea NU este Simetrică!\")\n",
        "        return None, None\n",
        "    \n",
        "    if Sylvester(A) == 1:\n",
        "        return None, None\n",
        "    \n",
        "    L = np.zeros((n, n))\n",
        "    L[0][0] = math.sqrt(A[0][0])\n",
        "    \n",
        "    for i in range(1, n):\n",
        "        L[i][0] = A[i][0] / L[0][0]\n",
        "    \n",
        "    # Pasul 2\n",
        "    for k in range(1, n):\n",
        "        sum = 0\n",
        "        for s in range(k):\n",
        "            sum += L[k][s] ** 2\n",
        "        \n",
        "        sum = A[k][k] - sum\n",
        "        if sum <= 0:\n",
        "            print(\"Matricea NU este Pozitiv Definită!\")\n",
        "            return None, None\n",
        "        \n",
        "        L[k][k] = math.sqrt(sum)\n",
        "        \n",
        "        for i in range(k + 1, n):\n",
        "            sum = 0\n",
        "            for s in range(k):\n",
        "                sum += L[i][s] * L[k][s]\n",
        "            \n",
        "            sum = A[i][k] - sum\n",
        "            L[i][k] = sum / L[k][k]\n",
        "    \n",
        "    # Pasul 3\n",
        "    y = metSubAsc(L, b, 10 ** (-10))\n",
        "    \n",
        "    # Pasul 4\n",
        "    x = metSubDesc(np.transpose(L), y, 10 ** (-10))\n",
        "    \n",
        "    \n",
        "    return L, x"
      ],
      "execution_count": null,
      "outputs": []
    },
    {
      "cell_type": "code",
      "metadata": {
        "id": "nxp45R8Qg8HI",
        "outputId": "10002955-4bc9-468f-e547-6bceaf3114ff"
      },
      "source": [
        "# Subpunctul 4, 5, 6 \n",
        "\n",
        "L, x = FactCholesky(A, b)\n",
        "L_transpus = np.transpose(L)\n",
        "print(\"A = L * L_transpus\\n\")\n",
        "print(f\"L = \\n{L}\\n\")\n",
        "print(f\"L_transpus = \\n{L_transpus}\\n\")\n",
        "print(f\"L * L_transpus = \\n {L@L_transpus}\")"
      ],
      "execution_count": null,
      "outputs": [
        {
          "output_type": "stream",
          "text": [
            "A = L * L_transpus\n",
            "\n",
            "L = \n",
            "[[5.65685425 0.         0.         0.         0.        ]\n",
            " [2.82842712 4.89897949 0.         0.         0.        ]\n",
            " [1.41421356 2.44948974 4.89897949 0.         0.        ]\n",
            " [0.70710678 1.22474487 2.44948974 4.89897949 0.        ]\n",
            " [0.35355339 0.61237244 1.22474487 2.44948974 4.89897949]]\n",
            "\n",
            "L_transpus = \n",
            "[[5.65685425 2.82842712 1.41421356 0.70710678 0.35355339]\n",
            " [0.         4.89897949 2.44948974 1.22474487 0.61237244]\n",
            " [0.         0.         4.89897949 2.44948974 1.22474487]\n",
            " [0.         0.         0.         4.89897949 2.44948974]\n",
            " [0.         0.         0.         0.         4.89897949]]\n",
            "\n",
            "L * L_transpus = \n",
            " [[32. 16.  8.  4.  2.]\n",
            " [16. 32. 16.  8.  4.]\n",
            " [ 8. 16. 32. 16.  8.]\n",
            " [ 4.  8. 16. 32. 16.]\n",
            " [ 2.  4.  8. 16. 32.]]\n"
          ],
          "name": "stdout"
        }
      ]
    },
    {
      "cell_type": "code",
      "metadata": {
        "id": "OGeAHFjQg8HK",
        "outputId": "cc6e7895-8b9d-43ad-f783-153e9fab04ff"
      },
      "source": [
        "print(f\"Soluția Sistemului -> x: \\n{x}\") "
      ],
      "execution_count": null,
      "outputs": [
        {
          "output_type": "stream",
          "text": [
            "Soluția Sistemului -> x: \n",
            "[[-0.29166667]\n",
            " [-0.875     ]\n",
            " [-1.44791667]\n",
            " [-1.375     ]\n",
            " [20.70833333]]\n"
          ],
          "name": "stdout"
        }
      ]
    },
    {
      "cell_type": "code",
      "metadata": {
        "id": "BrptfywLg8HL",
        "outputId": "f5d9db28-1287-4801-e594-9b0e33e7dc09"
      },
      "source": [
        "# Verificare\n",
        "print(f\"b: {b}\\n\")\n",
        "print(f\"A * x: \\n{A@x}\") "
      ],
      "execution_count": null,
      "outputs": [
        {
          "output_type": "stream",
          "text": [
            "b: [  1.  16.  81. 256. 625.]\n",
            "\n",
            "A * x: \n",
            "[[  1.]\n",
            " [ 16.]\n",
            " [ 81.]\n",
            " [256.]\n",
            " [625.]]\n"
          ],
          "name": "stdout"
        }
      ]
    }
  ]
}