{
  "nbformat": 4,
  "nbformat_minor": 0,
  "metadata": {
    "kernelspec": {
      "display_name": "Python 3",
      "language": "python",
      "name": "python3"
    },
    "language_info": {
      "codemirror_mode": {
        "name": "ipython",
        "version": 3
      },
      "file_extension": ".py",
      "mimetype": "text/x-python",
      "name": "python",
      "nbconvert_exporter": "python",
      "pygments_lexer": "ipython3",
      "version": "3.8.3"
    },
    "colab": {
      "name": "Temă 1.ipynb",
      "provenance": []
    }
  },
  "cells": [
    {
      "cell_type": "code",
      "metadata": {
        "id": "ut2zgM1MedAa"
      },
      "source": [
        "\"\"\"\n",
        "Created on Thu Oct 22 12:21:13 2020\n",
        "\n",
        "@Author: Eu\n",
        "@Grupa: 341\n",
        "@Nr.Crt: 159\n",
        "@Varianta: 15\n",
        "\n",
        "\"\"\""
      ],
      "execution_count": null,
      "outputs": []
    },
    {
      "cell_type": "code",
      "metadata": {
        "id": "tPFV9m4jedAg"
      },
      "source": [
        "# Librării\n",
        "import numpy as np                       # arrays\n",
        "import matplotlib.pyplot as plt          # grafic"
      ],
      "execution_count": null,
      "outputs": []
    },
    {
      "cell_type": "code",
      "metadata": {
        "id": "I6y_z-pTedAh"
      },
      "source": [
        "\"\"\"   Ex 1 -> Rezolvare   \"\"\"\n",
        "\n",
        "# Datele Problemei (Varianta 15)\n",
        "def f(x):\n",
        "    return x ** 3 - x ** 2 - 7 * x + 7\n",
        "(a, b) = (-3, 3)  # am folosit acest interval, pentru a putea observa soluțiile pe grafic\n",
        "eps = 10 ** (-5)\n",
        "\n",
        "\n",
        "\"\"\"\n",
        "Funcție care caută intervalele pe care funcția are o soluție.\n",
        "Avem o ecuație de gradul 3, deci trebuie să avem 3 rădăcini.\n",
        "\"\"\"\n",
        "def cauta_intervale(f, a, b, n):\n",
        "    \"\"\"\n",
        "    Parameters\n",
        "    ----------\n",
        "    f : funcția asociată ecuației f(x) = 0.\n",
        "    a : capătul din stânga intervalului.\n",
        "    b : capătul din dreapta intervalului.\n",
        "    n : nr de subintervale în care împărțim intervalul global (a, b).\n",
        "\n",
        "    Returns\n",
        "    -------\n",
        "    Matricea 'intervale' cu 2 linii; prima linie -> capăt st interval curent\n",
        "    și a doua linie -> capât dr\n",
        "    și un nr de coloane = nr rădăcini\n",
        "    \"\"\"\n",
        "    \n",
        "    x = np.linspace(a, b, n + 1)   #returnează n+1 numere, situate la distanțe egale, din cadrul intervalului [a, b]\n",
        "    for i in range(len(x)):   \n",
        "        if(f(x[i]) == 0):     #capetele intervalelor mele nu au voie să fie 0; tb să avem soluțiile în intervale, nu la capete\n",
        "            print(\"Schimba nr de Intervale\")\n",
        "            break\n",
        "\n",
        "    matrice = np.zeros((2, 1000))  \n",
        "    z = 0\n",
        "    for i in range(n):\n",
        "        if f(x[i]) * f(x[i + 1]) < 0:  #existență soluție\n",
        "            matrice[0][z] = x[i]\n",
        "            matrice[1][z] = x[i + 1]\n",
        "            z += 1 \n",
        "    \n",
        "    matrice_finala = matrice[:, 0:z]   #iau ambele linii și doar coloanele de la 0 la z (numărat mai sus)\n",
        "    return matrice_finala\n",
        "\n",
        "\n",
        "\n",
        "\n",
        "# Subpunctul a) Metoda Secantei\n",
        "def MetSecantei(f, x0, x1, eps):\n",
        "    \"\"\"\n",
        "\n",
        "    Parameters\n",
        "    ----------\n",
        "    f : funcția definită mai sus.\n",
        "    x0, x1 : 2 puncte ce aparțin intervalului (a, b) = (-3, 3); valori de pornire.\n",
        "    eps : epsilon / toleranța.\n",
        "\n",
        "    Returns\n",
        "    -------\n",
        "    soluția aproximativă\n",
        "    N = nr de iterații (pași)\n",
        "\n",
        "    \"\"\"\n",
        "    \n",
        "    N = 2 \n",
        "    # x(k) = x2, x(k-1) = x1, x(k-2) = x0\n",
        "    while abs(x1 - x0) >= abs(x0) * eps:\n",
        "        N += 1\n",
        "        x2 = (x0 * f(x1) - x1 * f(x0)) / (f(x1) - f(x0))\n",
        "        \n",
        "        if x2 < a or x2 > b:\n",
        "            print(\"Introduceți alte Valori pt x0 și x1\")\n",
        "            break\n",
        "            \n",
        "        # Reatribui Variabilele   \n",
        "        x0 = x1\n",
        "        x1 = x2\n",
        "    \n",
        "    return x1, N\n",
        "\n",
        "\n",
        "\n",
        "\n",
        "# Subpunctul b) Metoda Poziției False\n",
        "def MetPozFalse(f, a, b, eps):\n",
        "    \"\"\"\n",
        "\n",
        "    Parameters\n",
        "    ----------\n",
        "    f : funcția definită mai sus.\n",
        "    a, b : capetele intervalului (definite mai sus).\n",
        "    eps : epsilon / toleranța.\n",
        "\n",
        "    Returns\n",
        "    -------\n",
        "    soluția aproximativă\n",
        "    N = nr de iterații\n",
        "\n",
        "    \"\"\"\n",
        "    \n",
        "    N = 1\n",
        "    conditie = True\n",
        "    while conditie:\n",
        "        x2 = a - (b - a) * f(a) / (f(b) - f(a))\n",
        "        \n",
        "        if f(x2) == 0: \n",
        "            break\n",
        "\n",
        "        if f(a) * f(x2) < 0:\n",
        "            b = x2\n",
        "        else:\n",
        "            a = x2\n",
        "\n",
        "        N += 1\n",
        "        conditie = abs(f(x2)) >= eps\n",
        "\n",
        "    return x2, N"
      ],
      "execution_count": null,
      "outputs": []
    },
    {
      "cell_type": "code",
      "metadata": {
        "id": "tT88diI-edAh",
        "outputId": "b5bff9ca-a0a7-4a62-fd18-5ea7098f7103"
      },
      "source": [
        "# Subpunctul c) Grafice și Rădăcini\n",
        "\n",
        "interval = cauta_intervale(f, a, b, 8)\n",
        "print(interval)\n",
        "dim = np.shape(interval)[1]"
      ],
      "execution_count": null,
      "outputs": [
        {
          "output_type": "stream",
          "text": [
            "[[-3.    0.75  2.25]\n",
            " [-2.25  1.5   3.  ]]\n"
          ],
          "name": "stdout"
        }
      ]
    },
    {
      "cell_type": "code",
      "metadata": {
        "id": "ginT440_edAi"
      },
      "source": [
        "f1 = np.vectorize(f) \n",
        "x_grafic = np.linspace(a, b, 100) # 100 de numere din intervalul [a, b]\n",
        "y_grafic = f1(x_grafic)          # aplic funcția pe aceste 100 de numere"
      ],
      "execution_count": null,
      "outputs": []
    },
    {
      "cell_type": "code",
      "metadata": {
        "id": "lUk7WE7CedAi",
        "outputId": "353893da-6b2c-4e86-b96b-0786fcb89864"
      },
      "source": [
        "# Rădăcini pentru Metoda Secantei \n",
        "print(\"Metoda Secantei:\")\n",
        "print(\"Ecuația: x ** 3 - x ** 2 - 7 * x + 7 = 0\\n\")\n",
        "r = np.zeros(dim)\n",
        "for i in range(dim):\n",
        "    r[i], N = MetSecantei(f, interval[0, i], interval[1, i], eps)\n",
        "    print(\"Intervalul [{:.2f}, {:.2f}]\".format(interval[0, i], interval[1,i]))\n",
        "    print(\"Soluția Numerică: x = {:.3f}\".format(r[i]))\n",
        "    print(f'Soluția a fost găsită în {N} pași')\n",
        "    print(\"-----------------------------------\")"
      ],
      "execution_count": null,
      "outputs": [
        {
          "output_type": "stream",
          "text": [
            "Metoda Secantei:\n",
            "Ecuația: x ** 3 - x ** 2 - 7 * x + 7 = 0\n",
            "\n",
            "Intervalul [-3.00, -2.25]\n",
            "Soluția Numerică: x = -2.646\n",
            "Soluția a fost găsită în 7 pași\n",
            "-----------------------------------\n",
            "Intervalul [0.75, 1.50]\n",
            "Soluția Numerică: x = 1.000\n",
            "Soluția a fost găsită în 7 pași\n",
            "-----------------------------------\n",
            "Intervalul [2.25, 3.00]\n",
            "Soluția Numerică: x = 2.646\n",
            "Soluția a fost găsită în 8 pași\n",
            "-----------------------------------\n"
          ],
          "name": "stdout"
        }
      ]
    },
    {
      "cell_type": "code",
      "metadata": {
        "id": "5I7UJ4KmedAi",
        "outputId": "7a61e8ba-5287-47d3-9759-95afde0d7bc2"
      },
      "source": [
        "# Grafic pentru Metoda Secantei\n",
        "plt.plot(x_grafic, y_grafic, linewidth = 3)  # graficul funcției\n",
        "plt.grid()\n",
        "plt.title('Ex1 - a: Metoda Secantei')\n",
        "plt.axvline(0, color = 'black')   # trasează Oy\n",
        "plt.axhline(0, color = 'black')   # trasează Ox \n",
        "plt.plot(r, f(r), 'o', color = 'red', markersize = 10)\n",
        "plt.show()\n",
        "plt.show()"
      ],
      "execution_count": null,
      "outputs": [
        {
          "output_type": "display_data",
          "data": {
            "image/png": "[encoded data removed]",
            "text/plain": [
              "<Figure size 432x288 with 1 Axes>"
            ]
          },
          "metadata": {
            "tags": [],
            "needs_background": "light"
          }
        }
      ]
    },
    {
      "cell_type": "code",
      "metadata": {
        "id": "qrbQjKKLedAj",
        "outputId": "cb176ed8-1237-40bb-c428-112b1e55d605"
      },
      "source": [
        " # Rădăcini pentru Metoda Poziției False\n",
        "print(\"Metoda Poziției False:\")\n",
        "print(\"Ecuația: x ** 3 - x ** 2 - 7 * x + 7 = 0\\n\")\n",
        "r = np.zeros(dim)\n",
        "for i in range(dim):\n",
        "    r[i], N = MetPozFalse(f, interval[0, i], interval[1, i], eps)\n",
        "    print(\"Intervalul [{:.2f}, {:.2f}]\".format(interval[0, i], interval[1,i]))\n",
        "    print(\"Solutia Numerica: x = {:.3f}\".format(r[i]))\n",
        "    print(f'Soluția a fost găsită în {N} pași')\n",
        "    print(\"-----------------------------------\")"
      ],
      "execution_count": null,
      "outputs": [
        {
          "output_type": "stream",
          "text": [
            "Metoda Poziției False:\n",
            "Ecuația: x ** 3 - x ** 2 - 7 * x + 7 = 0\n",
            "\n",
            "Intervalul [-3.00, -2.25]\n",
            "Solutia Numerica: x = -2.646\n",
            "Soluția a fost găsită în 9 pași\n",
            "-----------------------------------\n",
            "Intervalul [0.75, 1.50]\n",
            "Solutia Numerica: x = 1.000\n",
            "Soluția a fost găsită în 6 pași\n",
            "-----------------------------------\n",
            "Intervalul [2.25, 3.00]\n",
            "Solutia Numerica: x = 2.646\n",
            "Soluția a fost găsită în 10 pași\n",
            "-----------------------------------\n"
          ],
          "name": "stdout"
        }
      ]
    },
    {
      "cell_type": "code",
      "metadata": {
        "id": "hpcYylGKedAj",
        "outputId": "da12e621-6409-48ed-8791-6258c8bd99e8"
      },
      "source": [
        "# Grafic pentru Metoda Poziției False\n",
        "plt.plot(x_grafic, y_grafic, linewidth = 3)  # graficul funcției\n",
        "plt.grid()\n",
        "plt.title('Ex1 - b: Metoda Poziției False')\n",
        "plt.axvline(0, color = 'black')   # trasează Oy\n",
        "plt.axhline(0, color = 'black')   # trasează Ox \n",
        "plt.plot(r, f(r), 'o', color = 'red', markersize = 10)\n",
        "plt.show()"
      ],
      "execution_count": null,
      "outputs": [
        {
          "output_type": "display_data",
          "data": {
            "image/png": "[encoded data removed]",
            "text/plain": [
              "<Figure size 432x288 with 1 Axes>"
            ]
          },
          "metadata": {
            "tags": [],
            "needs_background": "light"
          }
        }
      ]
    },
    {
      "cell_type": "code",
      "metadata": {
        "id": "U8v5i5j0edAj"
      },
      "source": [
        "\"\"\"   Ex 2 -> Rezolvare   \"\"\"\n",
        "\n",
        "# Datele Problemei (Varianta 15)\n",
        "d = 18\n",
        "f = -6\n",
        "c = -3\n",
        "n = 20\n",
        "tol = 10 ** (-16)\n",
        "A = [[0.0 for i in range(n)] for j in range(n)]\n",
        "for i in range(n):\n",
        "    A[i][i] = d * 1.0\n",
        "for i in range(1, n):\n",
        "    A[i][i - 1] = c * 1.0\n",
        "    A[i - 1][i] = f * 1.0\n",
        "\n",
        "b = [1.] * n\n",
        "b[0] = b[n - 1] = 2."
      ],
      "execution_count": null,
      "outputs": []
    },
    {
      "cell_type": "code",
      "metadata": {
        "id": "6bkiQU5LedAk"
      },
      "source": [
        "# Metoda Substituției Descendente (Funcție Auxiliară pt implementarea Metodei Gauss)\n",
        "def metSubDesc(A, b, tol):\n",
        "    \"\"\"\n",
        "\n",
        "    Parameters\n",
        "    ----------\n",
        "    A : matrice pătratică, superior triunghiulară, cu toate elementele de pe diagonala principală nenule.\n",
        "    b : vectorul termenilor liberi.\n",
        "    tol : toleranță = valoare numerică foarte mică în raport cu care vom compara numerele apropiate de 0.\n",
        "\n",
        "    Returns\n",
        "    -------\n",
        "    x = Soluția Sistemului.\n",
        "\n",
        "    \"\"\"\n",
        "    \n",
        "    # Verificăm dacă matricea este pătratică\n",
        "    m, n = np.shape(A)\n",
        "    if m!= n:\n",
        "        print(\"Matricea nu este pătratică. Introduceți altă matrice.\")\n",
        "        x = None\n",
        "        return x\n",
        "    \n",
        "    # Verificăm dacă matricea este superior triunghiulară\n",
        "    for i in range(m):\n",
        "       for j in range(i):\n",
        "           if abs(A[i][j] > tol):\n",
        "               print(\"Matricea nu este superior triunghiulară.\")\n",
        "               x = None\n",
        "               return x\n",
        "    \n",
        "    # Verificam dacă toate elementele de pe diagonala principală sunt nenule => Si. este compatibil ddeterminat (adică am soluție unică)\n",
        "    for i in range(n):\n",
        "        if A[i][i] == 0:\n",
        "            print(\"Sistemul nu este compatibil determinat.\")\n",
        "            x = None\n",
        "            return x\n",
        "    \n",
        "    x = np.zeros((n, 1))\n",
        "    x[n - 1] = b[n - 1] / A[n - 1][n - 1]\n",
        "    \n",
        "    k = n - 2\n",
        "    while k >= 0:\n",
        "        s = 0\n",
        "        for j in range(k + 1, n):\n",
        "            s += x[j] * A[k][j]\n",
        "            \n",
        "        x[k] = (1 / A[k][k]) * (b[k] - s)\n",
        "        k -= 1\n",
        "    \n",
        "    return x\n",
        "    \n",
        "    \n",
        "# Definirea Metodei Gauss cu Pivotare Totală\n",
        "def GaussPivTot(A, b, tol):\n",
        "    \"\"\"\n",
        "\n",
        "    Parameters\n",
        "    ----------\n",
        "    Ax = b.\n",
        "\n",
        "    Returns\n",
        "    -------\n",
        "    x = Soluția.\n",
        "\n",
        "    \"\"\"\n",
        "    \n",
        "    # Verificăm dacă matricea este pătratică\n",
        "    m, n = np.shape(A)\n",
        "    if m != n:\n",
        "        print(\"Matricea nu este pătratică. Introduceți altă matrice.\")\n",
        "        x = None\n",
        "        return x\n",
        "    \n",
        "    A = np.column_stack((A, b)) # concatenare coloană termeni liberi la matrice A -> matrice extinsă\n",
        "    n = len(b)\n",
        "    \n",
        "    index = np.array(range(n))\n",
        "    \n",
        "    for k in range(n - 1):\n",
        "        p = k\n",
        "        m = k\n",
        "      \n",
        "        for i in range(k, n):\n",
        "            for j in range(k, n):\n",
        "                if abs(A[p][m]) < abs(A[i][j]):\n",
        "                    p = i\n",
        "                    m = j\n",
        "    \n",
        "        if A[p][m] == 0:\n",
        "            print(\"Sistem Incompatibil sau Compatibil Nedeterminat!\")\n",
        "            break\n",
        "        \n",
        "        \"\"\"\n",
        "        !!! ATENȚIE: Tb să pun np.array\n",
        "        A = np.array([[1, 2, 3],\n",
        "                      [4, 5, 6],\n",
        "                      [7, 8, 9]])\n",
        "\n",
        "        A[[1, 0]] = A[[0, 1]] #linii\n",
        "        A[:,[2,1]] = A[:,[1,2]] #coloane\n",
        "        \"\"\"\n",
        "        if p != k:\n",
        "            A[[p, k]] = A[[k, p]] # interschimb linia p cu linia k\n",
        "        \n",
        "        if m != k:\n",
        "            A[:, [m, k]] = A[:, [k, m]] # interschimb coloana m cu coloana k\n",
        "            index[[m, k]] = index[[k, m]]       \n",
        "        \n",
        "        for l in range(k + 1, n):\n",
        "            m = A[l][k] / A[k][k]\n",
        "            A[l] = A[l] - m * A[k]\n",
        "        \n",
        "        if A[n - 1][n - 1] == 0:\n",
        "            print(\"Sistem Incompatibil sau Compatibil Nedeterminat!\")\n",
        "            break\n",
        "        \n",
        "        y = metSubDesc(A[:, 0:n], A[:, [n]], tol)\n",
        "        x = np.zeros(len(y))\n",
        "        for i in range(n):\n",
        "            x[index[i]] = y[i]\n",
        "             \n",
        "    return x"
      ],
      "execution_count": null,
      "outputs": []
    },
    {
      "cell_type": "code",
      "metadata": {
        "id": "EmYlmCQsedAk",
        "outputId": "eaf5c52b-65eb-40d1-9f3b-73e2f6d646db"
      },
      "source": [
        "x = GaussPivTot(A, b, tol)  \n",
        "print(x)"
      ],
      "execution_count": null,
      "outputs": [
        {
          "output_type": "stream",
          "text": [
            "[0.15047208 0.1180829  0.11234598 0.11132984 0.11114986 0.11111798\n",
            " 0.11111235 0.1111114  0.11111137 0.11111173 0.11111284 0.11111599\n",
            " 0.11112489 0.11115001 0.1112209  0.11142104 0.11198602 0.11358086\n",
            " 0.1180829  0.13079159]\n"
          ],
          "name": "stdout"
        }
      ]
    },
    {
      "cell_type": "code",
      "metadata": {
        "id": "bmY8ThZBedAl"
      },
      "source": [
        "\"\"\"   Ex 3 -> Rezolvare   \"\"\"\n",
        "\n",
        "# Datele Problemei (Varianta 15)\n",
        "A = np.array([[12., 9., 17.],\n",
        "              [4., 2., 5.],\n",
        "              [20., 22., 38.]])\n",
        "b = np.array([[31.], [12.], [50.]])\n",
        "tol = 10 ** (-16)"
      ],
      "execution_count": null,
      "outputs": []
    },
    {
      "cell_type": "code",
      "metadata": {
        "id": "HQHTd353edAl"
      },
      "source": [
        "# Gauss cu Pivotare Parțială\n",
        "def GaussPP(A, b, tol):\n",
        "    \"\"\"\n",
        "\n",
        "    Parameters\n",
        "    ----------\n",
        "    A : matrice pătratică.\n",
        "    b : vectori termeni liberi.\n",
        "    tol : toleranță => valoare cu care comparăm numerele nenule.\n",
        "\n",
        "    Returns\n",
        "    -------\n",
        "    x = Soluția Sistemului.\n",
        "\n",
        "    \"\"\"\n",
        "    \n",
        "    # Verificăm dacă matricea este pătratică\n",
        "    m, n = np.shape(A)\n",
        "    if m != n:\n",
        "        print(\"Matricea nu este pătratică. Introduceți altă matrice.\")\n",
        "        x = None\n",
        "        return x\n",
        "    \n",
        "    A_extins = np.concatenate((A, b), axis = 1) # axis = 1  =>  pentru concatenare coloane; dacă aveam 0, concatenam linii\n",
        "    # SAU: A_extins = np.column_stack((A, b)) # concatenare special pentru coloane\n",
        "    print(f'Matrice Extinsă Ințială: \\n{A_extins}\\n')\n",
        "    \n",
        "    for k in range(n - 1):       # coloane\n",
        "        max = A_extins[k][k]\n",
        "        p = k\n",
        "        for j in range(k + 1, n):\n",
        "            if abs(A_extins[j][k]) > abs(max):\n",
        "                max = A_extins[j][k]\n",
        "                p = j\n",
        "        \n",
        "        if abs(max) <= tol:\n",
        "            print(\"Sistemul nu admite solutie unică.\")\n",
        "            x = None\n",
        "            return x\n",
        "        \n",
        "        if p != k:\n",
        "            A_extins[[p, k]] = A_extins[[k, p]]   # swap linia p cu linia k\n",
        "            for j in range(k + 1, p):\n",
        "                A_extins[[j, p]] = A_extins[[p, j]]\n",
        "            print(f'Pasul = {k + 1}: Interschimbare Linii {p+1} <-> {k+1}:\\n{A_extins}\\n')\n",
        "        else:\n",
        "            print(f'Pasul = {k + 1}: NU S-AU INTERSCHIMBAT LINII!!!\\n')\n",
        "        \n",
        "        for j in range(k + 1, n):\n",
        "            m = A_extins[j][k] / A_extins[k][k]\n",
        "            A_extins[j] = A_extins[j] - m * A_extins[k]\n",
        "        \n",
        "        # Afisare Matrice Extinsă Intermediară\n",
        "        print(f'Pasul = {k + 1}: Transformarea Elementară: \\n{A_extins}\\n')\n",
        "    \n",
        "        \n",
        "    if abs(A_extins[n - 1][n - 1]) <= tol:\n",
        "        print(\"Sistemul nu admite soluție unică.\")\n",
        "        x = None\n",
        "        return x\n",
        "    \n",
        "    x = metSubDesc(A_extins[:, 0:n], A_extins[:, n], tol)\n",
        "    return x"
      ],
      "execution_count": null,
      "outputs": []
    },
    {
      "cell_type": "code",
      "metadata": {
        "id": "M-gU58SEedAl",
        "outputId": "9b9dc8c8-f9c8-42a5-e6f9-3b671e468737"
      },
      "source": [
        "x = GaussPP(A, b, tol)\n",
        "print(f'\\nSoluția Ecuației: \\n{x}')"
      ],
      "execution_count": null,
      "outputs": [
        {
          "output_type": "stream",
          "text": [
            "Matrice Extinsă Ințială: \n",
            "[[12.  9. 17. 31.]\n",
            " [ 4.  2.  5. 12.]\n",
            " [20. 22. 38. 50.]]\n",
            "\n",
            "Pasul = 1: Interschimbare Linii 3 <-> 1:\n",
            "[[20. 22. 38. 50.]\n",
            " [12.  9. 17. 31.]\n",
            " [ 4.  2.  5. 12.]]\n",
            "\n",
            "Pasul = 1: Transformarea Elementară: \n",
            "[[20.  22.  38.  50. ]\n",
            " [ 0.  -4.2 -5.8  1. ]\n",
            " [ 0.  -2.4 -2.6  2. ]]\n",
            "\n",
            "Pasul = 2: NU S-AU INTERSCHIMBAT LINII!!!\n",
            "\n",
            "Pasul = 2: Transformarea Elementară: \n",
            "[[20.         22.         38.         50.        ]\n",
            " [ 0.         -4.2        -5.8         1.        ]\n",
            " [ 0.          0.          0.71428571  1.42857143]]\n",
            "\n",
            "\n",
            "Soluția Ecuației: \n",
            "[[ 2.]\n",
            " [-3.]\n",
            " [ 2.]]\n"
          ],
          "name": "stdout"
        }
      ]
    },
    {
      "cell_type": "code",
      "metadata": {
        "id": "MVPpMd9fedAm"
      },
      "source": [
        ""
      ],
      "execution_count": null,
      "outputs": []
    }
  ]
}